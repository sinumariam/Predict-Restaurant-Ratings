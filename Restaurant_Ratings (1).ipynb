{
 "cells": [
  {
   "cell_type": "markdown",
   "id": "c2dc1995-b26c-4205-84b8-7d7acb9e4d9e",
   "metadata": {},
   "source": [
    "#### Name : SINU S MARIAM\n",
    "#### Designation : Machine Learning Intern  \n",
    "#### Organization : COGNIFYZ TECHNOLOGIES\n",
    "#### Batch Date: 23/06/2024 to 23/09/2024\n",
    "#### Task - Predict Restaurant Ratings\n",
    "#### Problem Statement:\n",
    "* Build a machine learning model to predict Restaurant Ratings based on certain features.\n",
    "* Interpret the model's results and analyze the most influential features affecting restaurant ratings."
   ]
  },
  {
   "cell_type": "code",
   "execution_count": 1,
   "id": "a6d60b7e-641c-48c1-865f-26ed2618fd1b",
   "metadata": {
    "tags": []
   },
   "outputs": [],
   "source": [
    "#importing necessary libraries \n",
    "import numpy as np\n",
    "import pandas as pd\n",
    "import warnings \n",
    "warnings.filterwarnings('ignore')\n",
    "#importing libraries for visualisation\n",
    "import matplotlib.pyplot as plt\n",
    "from matplotlib import style\n",
    "import seaborn as sns"
   ]
  },
  {
   "cell_type": "code",
   "execution_count": 2,
   "id": "adecda5b-0dfa-4124-87fd-341c979310bc",
   "metadata": {
    "tags": []
   },
   "outputs": [],
   "source": [
    "#importing Data\n",
    "data_frame = pd.read_csv('C:/Users/Documents/COGNIFYZ/dataset/Dataset .csv')"
   ]
  },
  {
   "cell_type": "markdown",
   "id": "6d50a478-9d15-40f7-895c-9c606964cd06",
   "metadata": {},
   "source": [
    "####  Performing descriptive analysis. Understand the variables and their corresponding values. "
   ]
  },
  {
   "cell_type": "code",
   "execution_count": 3,
   "id": "24625464-2b05-489d-a112-92f3e0bef890",
   "metadata": {
    "tags": []
   },
   "outputs": [
    {
     "data": {
      "text/plain": [
       "(9551, 21)"
      ]
     },
     "execution_count": 3,
     "metadata": {},
     "output_type": "execute_result"
    }
   ],
   "source": [
    "# Understanding the dimensions of train data\n",
    "data_frame.shape"
   ]
  },
  {
   "cell_type": "code",
   "execution_count": 4,
   "id": "e3c09b27-6039-404e-a29c-7b73540f2b47",
   "metadata": {
    "tags": []
   },
   "outputs": [
    {
     "name": "stdout",
     "output_type": "stream",
     "text": [
      "<class 'pandas.core.frame.DataFrame'>\n",
      "RangeIndex: 9551 entries, 0 to 9550\n",
      "Data columns (total 21 columns):\n",
      " #   Column                Non-Null Count  Dtype  \n",
      "---  ------                --------------  -----  \n",
      " 0   Restaurant ID         9551 non-null   int64  \n",
      " 1   Restaurant Name       9551 non-null   object \n",
      " 2   Country Code          9551 non-null   int64  \n",
      " 3   City                  9551 non-null   object \n",
      " 4   Address               9551 non-null   object \n",
      " 5   Locality              9551 non-null   object \n",
      " 6   Locality Verbose      9551 non-null   object \n",
      " 7   Longitude             9551 non-null   float64\n",
      " 8   Latitude              9551 non-null   float64\n",
      " 9   Cuisines              9542 non-null   object \n",
      " 10  Average Cost for two  9551 non-null   int64  \n",
      " 11  Currency              9551 non-null   object \n",
      " 12  Has Table booking     9551 non-null   object \n",
      " 13  Has Online delivery   9551 non-null   object \n",
      " 14  Is delivering now     9551 non-null   object \n",
      " 15  Switch to order menu  9551 non-null   object \n",
      " 16  Price range           9551 non-null   int64  \n",
      " 17  Aggregate rating      9551 non-null   float64\n",
      " 18  Rating color          9551 non-null   object \n",
      " 19  Rating text           9551 non-null   object \n",
      " 20  Votes                 9551 non-null   int64  \n",
      "dtypes: float64(3), int64(5), object(13)\n",
      "memory usage: 1.5+ MB\n"
     ]
    }
   ],
   "source": [
    "# Understanding the Data Variables\n",
    "data_frame.info()"
   ]
  },
  {
   "cell_type": "code",
   "execution_count": 5,
   "id": "e20e1c41-50f2-4609-9ec0-33fb393ef4f7",
   "metadata": {
    "tags": []
   },
   "outputs": [
    {
     "data": {
      "text/plain": [
       "Index(['Restaurant ID', 'Restaurant Name', 'Country Code', 'City', 'Address',\n",
       "       'Locality', 'Locality Verbose', 'Longitude', 'Latitude', 'Cuisines',\n",
       "       'Average Cost for two', 'Currency', 'Has Table booking',\n",
       "       'Has Online delivery', 'Is delivering now', 'Switch to order menu',\n",
       "       'Price range', 'Aggregate rating', 'Rating color', 'Rating text',\n",
       "       'Votes'],\n",
       "      dtype='object')"
      ]
     },
     "execution_count": 5,
     "metadata": {},
     "output_type": "execute_result"
    }
   ],
   "source": [
    "#Displaying columns\n",
    "data_frame.columns"
   ]
  },
  {
   "cell_type": "code",
   "execution_count": 6,
   "id": "9c7c2a2f-530f-4ec3-ac5f-0134bf2aa3d7",
   "metadata": {
    "tags": []
   },
   "outputs": [
    {
     "data": {
      "text/html": [
       "<div>\n",
       "<style scoped>\n",
       "    .dataframe tbody tr th:only-of-type {\n",
       "        vertical-align: middle;\n",
       "    }\n",
       "\n",
       "    .dataframe tbody tr th {\n",
       "        vertical-align: top;\n",
       "    }\n",
       "\n",
       "    .dataframe thead th {\n",
       "        text-align: right;\n",
       "    }\n",
       "</style>\n",
       "<table border=\"1\" class=\"dataframe\">\n",
       "  <thead>\n",
       "    <tr style=\"text-align: right;\">\n",
       "      <th></th>\n",
       "      <th>Restaurant ID</th>\n",
       "      <th>Restaurant Name</th>\n",
       "      <th>Country Code</th>\n",
       "      <th>City</th>\n",
       "      <th>Address</th>\n",
       "      <th>Locality</th>\n",
       "      <th>Locality Verbose</th>\n",
       "      <th>Longitude</th>\n",
       "      <th>Latitude</th>\n",
       "      <th>Cuisines</th>\n",
       "      <th>...</th>\n",
       "      <th>Currency</th>\n",
       "      <th>Has Table booking</th>\n",
       "      <th>Has Online delivery</th>\n",
       "      <th>Is delivering now</th>\n",
       "      <th>Switch to order menu</th>\n",
       "      <th>Price range</th>\n",
       "      <th>Aggregate rating</th>\n",
       "      <th>Rating color</th>\n",
       "      <th>Rating text</th>\n",
       "      <th>Votes</th>\n",
       "    </tr>\n",
       "  </thead>\n",
       "  <tbody>\n",
       "    <tr>\n",
       "      <th>0</th>\n",
       "      <td>6317637</td>\n",
       "      <td>Le Petit Souffle</td>\n",
       "      <td>162</td>\n",
       "      <td>Makati City</td>\n",
       "      <td>Third Floor, Century City Mall, Kalayaan Avenu...</td>\n",
       "      <td>Century City Mall, Poblacion, Makati City</td>\n",
       "      <td>Century City Mall, Poblacion, Makati City, Mak...</td>\n",
       "      <td>121.027535</td>\n",
       "      <td>14.565443</td>\n",
       "      <td>French, Japanese, Desserts</td>\n",
       "      <td>...</td>\n",
       "      <td>Botswana Pula(P)</td>\n",
       "      <td>Yes</td>\n",
       "      <td>No</td>\n",
       "      <td>No</td>\n",
       "      <td>No</td>\n",
       "      <td>3</td>\n",
       "      <td>4.8</td>\n",
       "      <td>Dark Green</td>\n",
       "      <td>Excellent</td>\n",
       "      <td>314</td>\n",
       "    </tr>\n",
       "    <tr>\n",
       "      <th>1</th>\n",
       "      <td>6304287</td>\n",
       "      <td>Izakaya Kikufuji</td>\n",
       "      <td>162</td>\n",
       "      <td>Makati City</td>\n",
       "      <td>Little Tokyo, 2277 Chino Roces Avenue, Legaspi...</td>\n",
       "      <td>Little Tokyo, Legaspi Village, Makati City</td>\n",
       "      <td>Little Tokyo, Legaspi Village, Makati City, Ma...</td>\n",
       "      <td>121.014101</td>\n",
       "      <td>14.553708</td>\n",
       "      <td>Japanese</td>\n",
       "      <td>...</td>\n",
       "      <td>Botswana Pula(P)</td>\n",
       "      <td>Yes</td>\n",
       "      <td>No</td>\n",
       "      <td>No</td>\n",
       "      <td>No</td>\n",
       "      <td>3</td>\n",
       "      <td>4.5</td>\n",
       "      <td>Dark Green</td>\n",
       "      <td>Excellent</td>\n",
       "      <td>591</td>\n",
       "    </tr>\n",
       "    <tr>\n",
       "      <th>2</th>\n",
       "      <td>6300002</td>\n",
       "      <td>Heat - Edsa Shangri-La</td>\n",
       "      <td>162</td>\n",
       "      <td>Mandaluyong City</td>\n",
       "      <td>Edsa Shangri-La, 1 Garden Way, Ortigas, Mandal...</td>\n",
       "      <td>Edsa Shangri-La, Ortigas, Mandaluyong City</td>\n",
       "      <td>Edsa Shangri-La, Ortigas, Mandaluyong City, Ma...</td>\n",
       "      <td>121.056831</td>\n",
       "      <td>14.581404</td>\n",
       "      <td>Seafood, Asian, Filipino, Indian</td>\n",
       "      <td>...</td>\n",
       "      <td>Botswana Pula(P)</td>\n",
       "      <td>Yes</td>\n",
       "      <td>No</td>\n",
       "      <td>No</td>\n",
       "      <td>No</td>\n",
       "      <td>4</td>\n",
       "      <td>4.4</td>\n",
       "      <td>Green</td>\n",
       "      <td>Very Good</td>\n",
       "      <td>270</td>\n",
       "    </tr>\n",
       "    <tr>\n",
       "      <th>3</th>\n",
       "      <td>6318506</td>\n",
       "      <td>Ooma</td>\n",
       "      <td>162</td>\n",
       "      <td>Mandaluyong City</td>\n",
       "      <td>Third Floor, Mega Fashion Hall, SM Megamall, O...</td>\n",
       "      <td>SM Megamall, Ortigas, Mandaluyong City</td>\n",
       "      <td>SM Megamall, Ortigas, Mandaluyong City, Mandal...</td>\n",
       "      <td>121.056475</td>\n",
       "      <td>14.585318</td>\n",
       "      <td>Japanese, Sushi</td>\n",
       "      <td>...</td>\n",
       "      <td>Botswana Pula(P)</td>\n",
       "      <td>No</td>\n",
       "      <td>No</td>\n",
       "      <td>No</td>\n",
       "      <td>No</td>\n",
       "      <td>4</td>\n",
       "      <td>4.9</td>\n",
       "      <td>Dark Green</td>\n",
       "      <td>Excellent</td>\n",
       "      <td>365</td>\n",
       "    </tr>\n",
       "    <tr>\n",
       "      <th>4</th>\n",
       "      <td>6314302</td>\n",
       "      <td>Sambo Kojin</td>\n",
       "      <td>162</td>\n",
       "      <td>Mandaluyong City</td>\n",
       "      <td>Third Floor, Mega Atrium, SM Megamall, Ortigas...</td>\n",
       "      <td>SM Megamall, Ortigas, Mandaluyong City</td>\n",
       "      <td>SM Megamall, Ortigas, Mandaluyong City, Mandal...</td>\n",
       "      <td>121.057508</td>\n",
       "      <td>14.584450</td>\n",
       "      <td>Japanese, Korean</td>\n",
       "      <td>...</td>\n",
       "      <td>Botswana Pula(P)</td>\n",
       "      <td>Yes</td>\n",
       "      <td>No</td>\n",
       "      <td>No</td>\n",
       "      <td>No</td>\n",
       "      <td>4</td>\n",
       "      <td>4.8</td>\n",
       "      <td>Dark Green</td>\n",
       "      <td>Excellent</td>\n",
       "      <td>229</td>\n",
       "    </tr>\n",
       "  </tbody>\n",
       "</table>\n",
       "<p>5 rows × 21 columns</p>\n",
       "</div>"
      ],
      "text/plain": [
       "   Restaurant ID         Restaurant Name  Country Code              City  \\\n",
       "0        6317637        Le Petit Souffle           162       Makati City   \n",
       "1        6304287        Izakaya Kikufuji           162       Makati City   \n",
       "2        6300002  Heat - Edsa Shangri-La           162  Mandaluyong City   \n",
       "3        6318506                    Ooma           162  Mandaluyong City   \n",
       "4        6314302             Sambo Kojin           162  Mandaluyong City   \n",
       "\n",
       "                                             Address  \\\n",
       "0  Third Floor, Century City Mall, Kalayaan Avenu...   \n",
       "1  Little Tokyo, 2277 Chino Roces Avenue, Legaspi...   \n",
       "2  Edsa Shangri-La, 1 Garden Way, Ortigas, Mandal...   \n",
       "3  Third Floor, Mega Fashion Hall, SM Megamall, O...   \n",
       "4  Third Floor, Mega Atrium, SM Megamall, Ortigas...   \n",
       "\n",
       "                                     Locality  \\\n",
       "0   Century City Mall, Poblacion, Makati City   \n",
       "1  Little Tokyo, Legaspi Village, Makati City   \n",
       "2  Edsa Shangri-La, Ortigas, Mandaluyong City   \n",
       "3      SM Megamall, Ortigas, Mandaluyong City   \n",
       "4      SM Megamall, Ortigas, Mandaluyong City   \n",
       "\n",
       "                                    Locality Verbose   Longitude   Latitude  \\\n",
       "0  Century City Mall, Poblacion, Makati City, Mak...  121.027535  14.565443   \n",
       "1  Little Tokyo, Legaspi Village, Makati City, Ma...  121.014101  14.553708   \n",
       "2  Edsa Shangri-La, Ortigas, Mandaluyong City, Ma...  121.056831  14.581404   \n",
       "3  SM Megamall, Ortigas, Mandaluyong City, Mandal...  121.056475  14.585318   \n",
       "4  SM Megamall, Ortigas, Mandaluyong City, Mandal...  121.057508  14.584450   \n",
       "\n",
       "                           Cuisines  ...          Currency Has Table booking  \\\n",
       "0        French, Japanese, Desserts  ...  Botswana Pula(P)               Yes   \n",
       "1                          Japanese  ...  Botswana Pula(P)               Yes   \n",
       "2  Seafood, Asian, Filipino, Indian  ...  Botswana Pula(P)               Yes   \n",
       "3                   Japanese, Sushi  ...  Botswana Pula(P)                No   \n",
       "4                  Japanese, Korean  ...  Botswana Pula(P)               Yes   \n",
       "\n",
       "  Has Online delivery Is delivering now Switch to order menu Price range  \\\n",
       "0                  No                No                   No           3   \n",
       "1                  No                No                   No           3   \n",
       "2                  No                No                   No           4   \n",
       "3                  No                No                   No           4   \n",
       "4                  No                No                   No           4   \n",
       "\n",
       "   Aggregate rating  Rating color Rating text Votes  \n",
       "0               4.8    Dark Green   Excellent   314  \n",
       "1               4.5    Dark Green   Excellent   591  \n",
       "2               4.4         Green   Very Good   270  \n",
       "3               4.9    Dark Green   Excellent   365  \n",
       "4               4.8    Dark Green   Excellent   229  \n",
       "\n",
       "[5 rows x 21 columns]"
      ]
     },
     "execution_count": 6,
     "metadata": {},
     "output_type": "execute_result"
    }
   ],
   "source": [
    "# Show the top 10 Rows of data\n",
    "data_frame.head(5)"
   ]
  },
  {
   "cell_type": "code",
   "execution_count": 7,
   "id": "6b5b0a7d-a9f5-4499-b7ac-c3310aeff9ec",
   "metadata": {
    "tags": []
   },
   "outputs": [
    {
     "data": {
      "text/html": [
       "<div>\n",
       "<style scoped>\n",
       "    .dataframe tbody tr th:only-of-type {\n",
       "        vertical-align: middle;\n",
       "    }\n",
       "\n",
       "    .dataframe tbody tr th {\n",
       "        vertical-align: top;\n",
       "    }\n",
       "\n",
       "    .dataframe thead th {\n",
       "        text-align: right;\n",
       "    }\n",
       "</style>\n",
       "<table border=\"1\" class=\"dataframe\">\n",
       "  <thead>\n",
       "    <tr style=\"text-align: right;\">\n",
       "      <th></th>\n",
       "      <th>Restaurant ID</th>\n",
       "      <th>Country Code</th>\n",
       "      <th>Longitude</th>\n",
       "      <th>Latitude</th>\n",
       "      <th>Average Cost for two</th>\n",
       "      <th>Price range</th>\n",
       "      <th>Aggregate rating</th>\n",
       "      <th>Votes</th>\n",
       "    </tr>\n",
       "  </thead>\n",
       "  <tbody>\n",
       "    <tr>\n",
       "      <th>count</th>\n",
       "      <td>9.551000e+03</td>\n",
       "      <td>9551.000000</td>\n",
       "      <td>9551.000000</td>\n",
       "      <td>9551.000000</td>\n",
       "      <td>9551.000000</td>\n",
       "      <td>9551.000000</td>\n",
       "      <td>9551.000000</td>\n",
       "      <td>9551.000000</td>\n",
       "    </tr>\n",
       "    <tr>\n",
       "      <th>mean</th>\n",
       "      <td>9.051128e+06</td>\n",
       "      <td>18.365616</td>\n",
       "      <td>64.126574</td>\n",
       "      <td>25.854381</td>\n",
       "      <td>1199.210763</td>\n",
       "      <td>1.804837</td>\n",
       "      <td>2.666370</td>\n",
       "      <td>156.909748</td>\n",
       "    </tr>\n",
       "    <tr>\n",
       "      <th>std</th>\n",
       "      <td>8.791521e+06</td>\n",
       "      <td>56.750546</td>\n",
       "      <td>41.467058</td>\n",
       "      <td>11.007935</td>\n",
       "      <td>16121.183073</td>\n",
       "      <td>0.905609</td>\n",
       "      <td>1.516378</td>\n",
       "      <td>430.169145</td>\n",
       "    </tr>\n",
       "    <tr>\n",
       "      <th>min</th>\n",
       "      <td>5.300000e+01</td>\n",
       "      <td>1.000000</td>\n",
       "      <td>-157.948486</td>\n",
       "      <td>-41.330428</td>\n",
       "      <td>0.000000</td>\n",
       "      <td>1.000000</td>\n",
       "      <td>0.000000</td>\n",
       "      <td>0.000000</td>\n",
       "    </tr>\n",
       "    <tr>\n",
       "      <th>25%</th>\n",
       "      <td>3.019625e+05</td>\n",
       "      <td>1.000000</td>\n",
       "      <td>77.081343</td>\n",
       "      <td>28.478713</td>\n",
       "      <td>250.000000</td>\n",
       "      <td>1.000000</td>\n",
       "      <td>2.500000</td>\n",
       "      <td>5.000000</td>\n",
       "    </tr>\n",
       "    <tr>\n",
       "      <th>50%</th>\n",
       "      <td>6.004089e+06</td>\n",
       "      <td>1.000000</td>\n",
       "      <td>77.191964</td>\n",
       "      <td>28.570469</td>\n",
       "      <td>400.000000</td>\n",
       "      <td>2.000000</td>\n",
       "      <td>3.200000</td>\n",
       "      <td>31.000000</td>\n",
       "    </tr>\n",
       "    <tr>\n",
       "      <th>75%</th>\n",
       "      <td>1.835229e+07</td>\n",
       "      <td>1.000000</td>\n",
       "      <td>77.282006</td>\n",
       "      <td>28.642758</td>\n",
       "      <td>700.000000</td>\n",
       "      <td>2.000000</td>\n",
       "      <td>3.700000</td>\n",
       "      <td>131.000000</td>\n",
       "    </tr>\n",
       "    <tr>\n",
       "      <th>max</th>\n",
       "      <td>1.850065e+07</td>\n",
       "      <td>216.000000</td>\n",
       "      <td>174.832089</td>\n",
       "      <td>55.976980</td>\n",
       "      <td>800000.000000</td>\n",
       "      <td>4.000000</td>\n",
       "      <td>4.900000</td>\n",
       "      <td>10934.000000</td>\n",
       "    </tr>\n",
       "  </tbody>\n",
       "</table>\n",
       "</div>"
      ],
      "text/plain": [
       "       Restaurant ID  Country Code    Longitude     Latitude  \\\n",
       "count   9.551000e+03   9551.000000  9551.000000  9551.000000   \n",
       "mean    9.051128e+06     18.365616    64.126574    25.854381   \n",
       "std     8.791521e+06     56.750546    41.467058    11.007935   \n",
       "min     5.300000e+01      1.000000  -157.948486   -41.330428   \n",
       "25%     3.019625e+05      1.000000    77.081343    28.478713   \n",
       "50%     6.004089e+06      1.000000    77.191964    28.570469   \n",
       "75%     1.835229e+07      1.000000    77.282006    28.642758   \n",
       "max     1.850065e+07    216.000000   174.832089    55.976980   \n",
       "\n",
       "       Average Cost for two  Price range  Aggregate rating         Votes  \n",
       "count           9551.000000  9551.000000       9551.000000   9551.000000  \n",
       "mean            1199.210763     1.804837          2.666370    156.909748  \n",
       "std            16121.183073     0.905609          1.516378    430.169145  \n",
       "min                0.000000     1.000000          0.000000      0.000000  \n",
       "25%              250.000000     1.000000          2.500000      5.000000  \n",
       "50%              400.000000     2.000000          3.200000     31.000000  \n",
       "75%              700.000000     2.000000          3.700000    131.000000  \n",
       "max           800000.000000     4.000000          4.900000  10934.000000  "
      ]
     },
     "execution_count": 7,
     "metadata": {},
     "output_type": "execute_result"
    }
   ],
   "source": [
    "#understanding the numerical variables\n",
    "data_frame.describe()"
   ]
  },
  {
   "cell_type": "code",
   "execution_count": 8,
   "id": "85aed1e4-3e20-4878-bb0d-d22f663a86ae",
   "metadata": {
    "tags": []
   },
   "outputs": [
    {
     "data": {
      "text/plain": [
       "0"
      ]
     },
     "execution_count": 8,
     "metadata": {},
     "output_type": "execute_result"
    }
   ],
   "source": [
    "# Checking for any Duplicated Entries\n",
    "data_frame.duplicated().sum()"
   ]
  },
  {
   "cell_type": "code",
   "execution_count": 9,
   "id": "7e75d384-9d75-46a3-ace7-48d1132af1cd",
   "metadata": {
    "tags": []
   },
   "outputs": [
    {
     "data": {
      "text/plain": [
       "Restaurant ID           0\n",
       "Restaurant Name         0\n",
       "Country Code            0\n",
       "City                    0\n",
       "Address                 0\n",
       "Locality                0\n",
       "Locality Verbose        0\n",
       "Longitude               0\n",
       "Latitude                0\n",
       "Cuisines                9\n",
       "Average Cost for two    0\n",
       "Currency                0\n",
       "Has Table booking       0\n",
       "Has Online delivery     0\n",
       "Is delivering now       0\n",
       "Switch to order menu    0\n",
       "Price range             0\n",
       "Aggregate rating        0\n",
       "Rating color            0\n",
       "Rating text             0\n",
       "Votes                   0\n",
       "dtype: int64"
      ]
     },
     "execution_count": 9,
     "metadata": {},
     "output_type": "execute_result"
    }
   ],
   "source": [
    "#Detecting missing values\n",
    "data_frame.isnull().sum()"
   ]
  },
  {
   "cell_type": "markdown",
   "id": "145fec3e-f69f-4807-9303-aaad2dfb6836",
   "metadata": {},
   "source": [
    "* The column 'Cuisines' has 9 null values"
   ]
  },
  {
   "cell_type": "code",
   "execution_count": 10,
   "id": "44f66cc2-5fe1-4c43-bff7-4f085f0ed79b",
   "metadata": {
    "tags": []
   },
   "outputs": [],
   "source": [
    "# Drop null values\n",
    "data_frame = data_frame.dropna()"
   ]
  },
  {
   "cell_type": "code",
   "execution_count": 11,
   "id": "612dd4ff-1f2c-4a1a-8445-60d824246c26",
   "metadata": {
    "tags": []
   },
   "outputs": [
    {
     "data": {
      "text/plain": [
       "Index(['Restaurant Name', 'City', 'Address', 'Locality', 'Locality Verbose',\n",
       "       'Cuisines', 'Currency', 'Has Table booking', 'Has Online delivery',\n",
       "       'Is delivering now', 'Switch to order menu', 'Rating color',\n",
       "       'Rating text'],\n",
       "      dtype='object')"
      ]
     },
     "execution_count": 11,
     "metadata": {},
     "output_type": "execute_result"
    }
   ],
   "source": [
    "# Identifing Categorical(Non-Numerical) Columns in Dataset\n",
    "data_frame_cat=data_frame.select_dtypes(exclude=['float64','int64'])\n",
    "data_frame_cat.columns"
   ]
  },
  {
   "cell_type": "code",
   "execution_count": 12,
   "id": "edacebc6-822c-48d7-8134-114c098bd348",
   "metadata": {
    "tags": []
   },
   "outputs": [
    {
     "data": {
      "text/plain": [
       "Index(['Restaurant ID', 'Country Code', 'Longitude', 'Latitude',\n",
       "       'Average Cost for two', 'Price range', 'Aggregate rating', 'Votes'],\n",
       "      dtype='object')"
      ]
     },
     "execution_count": 12,
     "metadata": {},
     "output_type": "execute_result"
    }
   ],
   "source": [
    "# Identifing Numerical Columns in Dataset\n",
    "data_frame_num=data_frame.select_dtypes(include=['float64','int64'])\n",
    "data_frame_num.columns"
   ]
  },
  {
   "cell_type": "code",
   "execution_count": 13,
   "id": "f9eb4394-19a3-4a0a-bc06-6763de3d08f1",
   "metadata": {
    "tags": []
   },
   "outputs": [
    {
     "name": "stdout",
     "output_type": "stream",
     "text": [
      "Name of the variable : Restaurant Name\n",
      "Cafe Coffee Day             83\n",
      "Domino's Pizza              79\n",
      "Subway                      63\n",
      "Green Chick Chop            51\n",
      "McDonald's                  48\n",
      "                            ..\n",
      "The Town House Cafe          1\n",
      "The G.T. Road                1\n",
      "The Darzi Bar & Kitchen      1\n",
      "Smoke On Water               1\n",
      "Walter's Coffee Roastery     1\n",
      "Name: Restaurant Name, Length: 7437, dtype: int64 \n",
      "\n",
      "\n",
      "Name of the variable : City\n",
      "New Delhi         5473\n",
      "Gurgaon           1118\n",
      "Noida             1080\n",
      "Faridabad          251\n",
      "Ghaziabad           25\n",
      "                  ... \n",
      "Lincoln              1\n",
      "Lakeview             1\n",
      "Lakes Entrance       1\n",
      "Inverloch            1\n",
      "Panchkula            1\n",
      "Name: City, Length: 140, dtype: int64 \n",
      "\n",
      "\n",
      "Name of the variable : Address\n",
      "Dilli Haat, INA, New Delhi                                                   11\n",
      "Sector 41, Noida                                                             11\n",
      "Greater Kailash (GK) 1, New Delhi                                            10\n",
      "The Imperial, Janpath, New Delhi                                              9\n",
      "Cyber Hub, DLF Cyber City, Gurgaon                                            8\n",
      "                                                                             ..\n",
      "108 & 126, Flyover Market, Defence Colony, New Delhi                          1\n",
      "Shop 25,27 & 29, Defence Colony Flyover Market, Defence Colony, New Delhi     1\n",
      "D  Block, Defence Colony, New Delhi                                           1\n",
      "A-1, Defence Colony, New Delhi                                                1\n",
      "Cafea��a Mahallesi, Bademalt۱ Sokak, No 21/B, Kad۱k�_y, ��stanbul             1\n",
      "Name: Address, Length: 8910, dtype: int64 \n",
      "\n",
      "\n",
      "Name of the variable : Locality\n",
      "Connaught Place                                122\n",
      "Rajouri Garden                                  99\n",
      "Shahdara                                        87\n",
      "Defence Colony                                  86\n",
      "Pitampura                                       85\n",
      "                                              ... \n",
      "Omaxe Celebration Mall, Sohna Road, Gurgaon      1\n",
      "Park Inn, Sector 15, Gurgaon                     1\n",
      "Plaza Mall, MG Road                              1\n",
      "Ramada Gurgaon Central, Sector 44                1\n",
      "Moda                                             1\n",
      "Name: Locality, Length: 1206, dtype: int64 \n",
      "\n",
      "\n",
      "Name of the variable : Locality Verbose\n",
      "Connaught Place, New Delhi                    122\n",
      "Rajouri Garden, New Delhi                      99\n",
      "Shahdara, New Delhi                            87\n",
      "Defence Colony, New Delhi                      86\n",
      "Pitampura, New Delhi                           85\n",
      "                                             ... \n",
      "Ramada Gurgaon Central, Sector 44, Gurgaon      1\n",
      "Sector 5, Gurgaon                               1\n",
      "Sector 53, Gurgaon                              1\n",
      "The Claremont, MG Road, Gurgaon                 1\n",
      "Moda, ��stanbul                                 1\n",
      "Name: Locality Verbose, Length: 1263, dtype: int64 \n",
      "\n",
      "\n",
      "Name of the variable : Cuisines\n",
      "North Indian                                             936\n",
      "North Indian, Chinese                                    511\n",
      "Chinese                                                  354\n",
      "Fast Food                                                354\n",
      "North Indian, Mughlai                                    334\n",
      "                                                        ... \n",
      "Bengali, Fast Food                                         1\n",
      "North Indian, Rajasthani, Asian                            1\n",
      "Chinese, Thai, Malaysian, Indonesian                       1\n",
      "Bakery, Desserts, North Indian, Bengali, South Indian      1\n",
      "Italian, World Cuisine                                     1\n",
      "Name: Cuisines, Length: 1825, dtype: int64 \n",
      "\n",
      "\n",
      "Name of the variable : Currency\n",
      "Indian Rupees(Rs.)        8652\n",
      "Dollar($)                  473\n",
      "Pounds(��)                  80\n",
      "Brazilian Real(R$)          60\n",
      "Emirati Diram(AED)          60\n",
      "Rand(R)                     60\n",
      "NewZealand($)               40\n",
      "Turkish Lira(TL)            34\n",
      "Botswana Pula(P)            22\n",
      "Indonesian Rupiah(IDR)      21\n",
      "Qatari Rial(QR)             20\n",
      "Sri Lankan Rupee(LKR)       20\n",
      "Name: Currency, dtype: int64 \n",
      "\n",
      "\n",
      "Name of the variable : Has Table booking\n",
      "No     8384\n",
      "Yes    1158\n",
      "Name: Has Table booking, dtype: int64 \n",
      "\n",
      "\n",
      "Name of the variable : Has Online delivery\n",
      "No     7091\n",
      "Yes    2451\n",
      "Name: Has Online delivery, dtype: int64 \n",
      "\n",
      "\n",
      "Name of the variable : Is delivering now\n",
      "No     9508\n",
      "Yes      34\n",
      "Name: Is delivering now, dtype: int64 \n",
      "\n",
      "\n",
      "Name of the variable : Switch to order menu\n",
      "No    9542\n",
      "Name: Switch to order menu, dtype: int64 \n",
      "\n",
      "\n",
      "Name of the variable : Rating color\n",
      "Orange        3734\n",
      "White         2148\n",
      "Yellow        2096\n",
      "Green         1078\n",
      "Dark Green     300\n",
      "Red            186\n",
      "Name: Rating color, dtype: int64 \n",
      "\n",
      "\n",
      "Name of the variable : Rating text\n",
      "Average      3734\n",
      "Not rated    2148\n",
      "Good         2096\n",
      "Very Good    1078\n",
      "Excellent     300\n",
      "Poor          186\n",
      "Name: Rating text, dtype: int64 \n",
      "\n",
      "\n"
     ]
    }
   ],
   "source": [
    "# Find Unique values in each Categorical column and their count\n",
    "cat_cols=['Restaurant Name', 'City', 'Address', 'Locality', 'Locality Verbose',\n",
    "       'Cuisines', 'Currency', 'Has Table booking', 'Has Online delivery',\n",
    "       'Is delivering now', 'Switch to order menu', 'Rating color',\n",
    "       'Rating text']\n",
    "def num_count():\n",
    "    for col in cat_cols:\n",
    "        print('Name of the variable :', col)\n",
    "        print(data_frame[col].value_counts(), '\\n\\n')\n",
    "num_count()"
   ]
  },
  {
   "cell_type": "code",
   "execution_count": 14,
   "id": "d97e5dbb-8f4e-41f5-bf58-f9639d935283",
   "metadata": {
    "tags": []
   },
   "outputs": [
    {
     "name": "stdout",
     "output_type": "stream",
     "text": [
      "Name of the variable : Country Code\n",
      "1      8652\n",
      "216     425\n",
      "215      80\n",
      "30       60\n",
      "214      60\n",
      "189      60\n",
      "148      40\n",
      "208      34\n",
      "14       24\n",
      "162      22\n",
      "94       21\n",
      "184      20\n",
      "166      20\n",
      "191      20\n",
      "37        4\n",
      "Name: Country Code, dtype: int64 \n",
      "\n",
      "\n",
      "Name of the variable : Longitude\n",
      "0.000000     498\n",
      "77.353663     19\n",
      "77.230412     12\n",
      "77.088688     10\n",
      "77.251426      9\n",
      "            ... \n",
      "77.134037      1\n",
      "77.228705      1\n",
      "77.230456      1\n",
      "77.229064      1\n",
      "29.026016      1\n",
      "Name: Longitude, Length: 8111, dtype: int64 \n",
      "\n",
      "\n",
      "Name of the variable : Latitude\n",
      "0.000000     498\n",
      "28.574309     16\n",
      "28.551456      9\n",
      "28.574300      9\n",
      "28.597103      8\n",
      "            ... \n",
      "28.641341      1\n",
      "28.644472      1\n",
      "28.648229      1\n",
      "28.644812      1\n",
      "40.984776      1\n",
      "Name: Latitude, Length: 8668, dtype: int64 \n",
      "\n",
      "\n",
      "Name of the variable : Average Cost for two\n",
      "500       900\n",
      "300       897\n",
      "400       857\n",
      "200       687\n",
      "600       652\n",
      "         ... \n",
      "8000        1\n",
      "2350        1\n",
      "150000      1\n",
      "70000       1\n",
      "545         1\n",
      "Name: Average Cost for two, Length: 140, dtype: int64 \n",
      "\n",
      "\n",
      "Name of the variable : Price range\n",
      "1    4438\n",
      "2    3113\n",
      "3    1405\n",
      "4     586\n",
      "Name: Price range, dtype: int64 \n",
      "\n",
      "\n",
      "Name of the variable : Aggregate rating\n",
      "0.0    2148\n",
      "3.2     522\n",
      "3.1     519\n",
      "3.4     495\n",
      "3.3     483\n",
      "3.5     480\n",
      "3.0     468\n",
      "3.6     458\n",
      "3.7     427\n",
      "3.8     399\n",
      "2.9     381\n",
      "3.9     332\n",
      "2.8     315\n",
      "4.1     274\n",
      "4.0     266\n",
      "2.7     250\n",
      "4.2     221\n",
      "2.6     191\n",
      "4.3     174\n",
      "4.4     143\n",
      "2.5     110\n",
      "4.5      95\n",
      "2.4      87\n",
      "4.6      78\n",
      "4.9      61\n",
      "2.3      47\n",
      "4.7      41\n",
      "2.2      27\n",
      "4.8      25\n",
      "2.1      15\n",
      "2.0       7\n",
      "1.9       2\n",
      "1.8       1\n",
      "Name: Aggregate rating, dtype: int64 \n",
      "\n",
      "\n",
      "Name of the variable : Votes\n",
      "0       1094\n",
      "1        483\n",
      "2        327\n",
      "3        244\n",
      "4        207\n",
      "        ... \n",
      "1126       1\n",
      "1616       1\n",
      "1040       1\n",
      "5966       1\n",
      "901        1\n",
      "Name: Votes, Length: 1012, dtype: int64 \n",
      "\n",
      "\n"
     ]
    }
   ],
   "source": [
    "# Find Unique values in each Non-Categorical column and their count\n",
    "numerical_cols=['Country Code', 'Longitude', 'Latitude', 'Average Cost for two',\n",
    "       'Price range', 'Aggregate rating', 'Votes']\n",
    "def num_count():\n",
    "    for col in numerical_cols:\n",
    "        print('Name of the variable :', col)\n",
    "        print(data_frame[col].value_counts(), '\\n\\n')\n",
    "num_count()"
   ]
  },
  {
   "cell_type": "markdown",
   "id": "95e777e1-b05e-4660-984b-516f49553bbe",
   "metadata": {},
   "source": [
    "#### Data Visualization"
   ]
  },
  {
   "cell_type": "markdown",
   "id": "2d187447-d3c2-4d7d-80d9-f00e8be91cad",
   "metadata": {},
   "source": [
    "##### *  Data Visualization helps to show how the different factors affect the Aggregate Ratings"
   ]
  },
  {
   "cell_type": "code",
   "execution_count": 17,
   "id": "bf9b7155-2d23-4ce1-8024-7f32a745f001",
   "metadata": {
    "tags": []
   },
   "outputs": [
    {
     "data": {
      "text/plain": [
       "<Axes: >"
      ]
     },
     "execution_count": 17,
     "metadata": {},
     "output_type": "execute_result"
    },
    {
     "data": {
      "image/png": "[encoded data removed]",
      "text/plain": [
       "<Figure size 500x300 with 1 Axes>"
      ]
     },
     "metadata": {},
     "output_type": "display_data"
    }
   ],
   "source": [
    "# Histogram of \"Has Online delivery\"\n",
    "data_frame[\"Has Online delivery\"].value_counts().plot(kind=\"bar\",figsize=(5,3))"
   ]
  },
  {
   "cell_type": "code",
   "execution_count": 18,
   "id": "c157f8e1-13f8-49ef-abab-3efcd71dddce",
   "metadata": {},
   "outputs": [
    {
     "data": {
      "text/plain": [
       "<Axes: >"
      ]
     },
     "execution_count": 18,
     "metadata": {},
     "output_type": "execute_result"
    },
    {
     "data": {
      "image/png": "[encoded data removed]",
      "text/plain": [
       "<Figure size 500x300 with 1 Axes>"
      ]
     },
     "metadata": {},
     "output_type": "display_data"
    }
   ],
   "source": [
    "# Histogram of 'Has Table booking'\n",
    "data_frame['Has Table booking'].value_counts().plot(kind=\"bar\",figsize=(5,3))"
   ]
  },
  {
   "cell_type": "code",
   "execution_count": 19,
   "id": "fa14782c-d674-4d0b-8b9c-d41bd27df90b",
   "metadata": {},
   "outputs": [
    {
     "data": {
      "text/plain": [
       "<Axes: >"
      ]
     },
     "execution_count": 19,
     "metadata": {},
     "output_type": "execute_result"
    },
    {
     "data": {
      "image/png": "[encoded data removed]",
      "text/plain": [
       "<Figure size 500x300 with 1 Axes>"
      ]
     },
     "metadata": {},
     "output_type": "display_data"
    }
   ],
   "source": [
    "# Histogram of 'Is delivering now'\n",
    "data_frame['Is delivering now'].value_counts().plot(kind=\"bar\",figsize=(5,3))"
   ]
  },
  {
   "cell_type": "code",
   "execution_count": 20,
   "id": "40274273-d966-45b6-bed4-6451f7acac16",
   "metadata": {},
   "outputs": [
    {
     "data": {
      "text/plain": [
       "<Axes: >"
      ]
     },
     "execution_count": 20,
     "metadata": {},
     "output_type": "execute_result"
    },
    {
     "data": {
      "image/png": "[encoded data removed]",
      "text/plain": [
       "<Figure size 500x300 with 1 Axes>"
      ]
     },
     "metadata": {},
     "output_type": "display_data"
    }
   ],
   "source": [
    "# Histogram of Rating text\n",
    "data_frame['Rating text'].value_counts().plot(kind=\"bar\",figsize=(5,3))"
   ]
  },
  {
   "cell_type": "markdown",
   "id": "7e754b79-9a2b-4b04-b0a5-2300003a056a",
   "metadata": {},
   "source": [
    "#### Heat Map"
   ]
  },
  {
   "cell_type": "code",
   "execution_count": 21,
   "id": "fe776cc0-728c-4d3e-8d3d-6efa8862c340",
   "metadata": {
    "tags": []
   },
   "outputs": [],
   "source": [
    "# find correlation between variables in data set for plotting heatmap\n",
    "df_corr=data_frame.corr()"
   ]
  },
  {
   "cell_type": "code",
   "execution_count": 22,
   "id": "27f1fa9a-228a-44b0-b7bf-0b1fe191e95c",
   "metadata": {
    "tags": []
   },
   "outputs": [
    {
     "data": {
      "image/png": "[encoded data removed]",
      "text/plain": [
       "<Figure size 2000x1500 with 2 Axes>"
      ]
     },
     "metadata": {},
     "output_type": "display_data"
    }
   ],
   "source": [
    "plt.figure(figsize=(20,15))\n",
    "sns.heatmap(df_corr,annot=True,cmap=\"BuPu\")\n",
    "plt.show()"
   ]
  },
  {
   "cell_type": "markdown",
   "id": "3c1d9939-0e72-4c91-9fab-7cc8705e0a98",
   "metadata": {},
   "source": [
    " * Variables Price range, Votes and Country Code have better correlation values (above 0.2) with  target 'Aggregate rating' variable\n",
    " * Factor 'Average Cost for two' is having low value (0.052) with  target 'Aggregate rating' variable\n",
    " * Latitude and Longitude have very very low correlation or negative correlation with target 'Aggregate rating' variable"
   ]
  },
  {
   "cell_type": "markdown",
   "id": "5095151b-433e-4746-8901-9057dfc8de23",
   "metadata": {},
   "source": [
    "#### Dropping unwanted Columns"
   ]
  },
  {
   "cell_type": "markdown",
   "id": "cb86e35a-d4cc-4e16-821b-768aab44fcf2",
   "metadata": {},
   "source": [
    "* Columns 'Longitude' and 'Latitude' can be dropped because of their very low correlation values with target variable'Aggregate rating'. \n",
    "* Also there are details from 15 countries (15 different country codes are available), and geographical data can be taken into consideration from columns 'City' and 'Locality'\n",
    "* The column 'Address' can be dropped because its content is available in columns such as 'City' and 'Locality'\n",
    "* The column 'Locality Verbose' can be dropped since its entries are a combination of columns 'City' and 'Locality'\n",
    "* The column 'Restaurant ID' can be dropped because it doesnot have relavant Info\n",
    "* The column 'Switch to order menu' can be dropped because it has only 1 unique value\n",
    "* The column 'Rating text' and 'Rating color' have same no: of Unique values. So either one can be dropped."
   ]
  },
  {
   "cell_type": "code",
   "execution_count": 23,
   "id": "63b82956-0201-4cca-8ae4-bd5033523744",
   "metadata": {
    "tags": []
   },
   "outputs": [],
   "source": [
    "# Drop unwanted columns \n",
    "data_frame.drop(columns=['Restaurant ID','Address','Locality Verbose','Rating color','Longitude', 'Latitude', 'Switch to order menu','Currency'],axis=1,inplace=True)"
   ]
  },
  {
   "cell_type": "markdown",
   "id": "5bb05da0-cd6f-40d0-b15f-01941d38c0c2",
   "metadata": {},
   "source": [
    "####  Scatter Plot "
   ]
  },
  {
   "cell_type": "code",
   "execution_count": 26,
   "id": "d78e7a85-0801-40d3-bcbf-899298fe326c",
   "metadata": {
    "tags": []
   },
   "outputs": [
    {
     "data": {
      "text/plain": [
       "<Axes: xlabel='Votes', ylabel='Aggregate rating'>"
      ]
     },
     "execution_count": 26,
     "metadata": {},
     "output_type": "execute_result"
    },
    {
     "data": {
      "image/png": "[encoded data removed]",
      "text/plain": [
       "<Figure size 600x400 with 1 Axes>"
      ]
     },
     "metadata": {},
     "output_type": "display_data"
    }
   ],
   "source": [
    "#SCATTER PLOT Aggregate Ratings  vs Votes\n",
    "plt.figure(figsize=(6,4))\n",
    "sns.scatterplot(data=data_frame,x=data_frame['Votes'],y=data_frame['Aggregate rating'])"
   ]
  },
  {
   "cell_type": "code",
   "execution_count": 27,
   "id": "e3c7c5cb-95fc-4108-bc05-a8a5c1cbbe4f",
   "metadata": {
    "tags": []
   },
   "outputs": [
    {
     "data": {
      "text/plain": [
       "<Axes: xlabel='Average Cost for two', ylabel='Aggregate rating'>"
      ]
     },
     "execution_count": 27,
     "metadata": {},
     "output_type": "execute_result"
    },
    {
     "data": {
      "image/png": "[encoded data removed]",
      "text/plain": [
       "<Figure size 600x400 with 1 Axes>"
      ]
     },
     "metadata": {},
     "output_type": "display_data"
    }
   ],
   "source": [
    "#SCATTER PLOT Aggregate Ratings  vs Average Cost for two\n",
    "plt.figure(figsize=(6,4))\n",
    "sns.scatterplot(data=data_frame,x=data_frame['Average Cost for two'],y=data_frame['Aggregate rating'])"
   ]
  },
  {
   "cell_type": "code",
   "execution_count": 28,
   "id": "3f52d170-79c1-431c-a837-fc4fe11b1d19",
   "metadata": {
    "tags": []
   },
   "outputs": [
    {
     "data": {
      "text/plain": [
       "<Axes: >"
      ]
     },
     "execution_count": 28,
     "metadata": {},
     "output_type": "execute_result"
    },
    {
     "data": {
      "image/png": "[encoded data removed]",
      "text/plain": [
       "<Figure size 500x300 with 1 Axes>"
      ]
     },
     "metadata": {},
     "output_type": "display_data"
    }
   ],
   "source": [
    "# Plotting histogram of \"Aggregate rating\" variable\n",
    "data_frame[\"Aggregate rating\"].value_counts().plot(kind=\"bar\",figsize=(5,3))"
   ]
  },
  {
   "cell_type": "code",
   "execution_count": 29,
   "id": "f96c73b9-a98c-4498-b4c3-637bb989ec24",
   "metadata": {},
   "outputs": [
    {
     "data": {
      "text/html": [
       "<div>\n",
       "<style scoped>\n",
       "    .dataframe tbody tr th:only-of-type {\n",
       "        vertical-align: middle;\n",
       "    }\n",
       "\n",
       "    .dataframe tbody tr th {\n",
       "        vertical-align: top;\n",
       "    }\n",
       "\n",
       "    .dataframe thead th {\n",
       "        text-align: right;\n",
       "    }\n",
       "</style>\n",
       "<table border=\"1\" class=\"dataframe\">\n",
       "  <thead>\n",
       "    <tr style=\"text-align: right;\">\n",
       "      <th></th>\n",
       "      <th>Country Code</th>\n",
       "      <th>Average Cost for two</th>\n",
       "      <th>Price range</th>\n",
       "      <th>Aggregate rating</th>\n",
       "      <th>Votes</th>\n",
       "      <th>Restaurant Name_#45</th>\n",
       "      <th>Restaurant Name_#Dilliwaala6</th>\n",
       "      <th>Restaurant Name_#InstaFreeze</th>\n",
       "      <th>Restaurant Name_#OFF Campus</th>\n",
       "      <th>Restaurant Name_#Urban Caf��</th>\n",
       "      <th>...</th>\n",
       "      <th>Has Online delivery_No</th>\n",
       "      <th>Has Online delivery_Yes</th>\n",
       "      <th>Is delivering now_No</th>\n",
       "      <th>Is delivering now_Yes</th>\n",
       "      <th>Rating text_Average</th>\n",
       "      <th>Rating text_Excellent</th>\n",
       "      <th>Rating text_Good</th>\n",
       "      <th>Rating text_Not rated</th>\n",
       "      <th>Rating text_Poor</th>\n",
       "      <th>Rating text_Very Good</th>\n",
       "    </tr>\n",
       "  </thead>\n",
       "  <tbody>\n",
       "    <tr>\n",
       "      <th>0</th>\n",
       "      <td>162</td>\n",
       "      <td>1100</td>\n",
       "      <td>3</td>\n",
       "      <td>4.8</td>\n",
       "      <td>314</td>\n",
       "      <td>0</td>\n",
       "      <td>0</td>\n",
       "      <td>0</td>\n",
       "      <td>0</td>\n",
       "      <td>0</td>\n",
       "      <td>...</td>\n",
       "      <td>1</td>\n",
       "      <td>0</td>\n",
       "      <td>1</td>\n",
       "      <td>0</td>\n",
       "      <td>0</td>\n",
       "      <td>1</td>\n",
       "      <td>0</td>\n",
       "      <td>0</td>\n",
       "      <td>0</td>\n",
       "      <td>0</td>\n",
       "    </tr>\n",
       "    <tr>\n",
       "      <th>1</th>\n",
       "      <td>162</td>\n",
       "      <td>1200</td>\n",
       "      <td>3</td>\n",
       "      <td>4.5</td>\n",
       "      <td>591</td>\n",
       "      <td>0</td>\n",
       "      <td>0</td>\n",
       "      <td>0</td>\n",
       "      <td>0</td>\n",
       "      <td>0</td>\n",
       "      <td>...</td>\n",
       "      <td>1</td>\n",
       "      <td>0</td>\n",
       "      <td>1</td>\n",
       "      <td>0</td>\n",
       "      <td>0</td>\n",
       "      <td>1</td>\n",
       "      <td>0</td>\n",
       "      <td>0</td>\n",
       "      <td>0</td>\n",
       "      <td>0</td>\n",
       "    </tr>\n",
       "    <tr>\n",
       "      <th>2</th>\n",
       "      <td>162</td>\n",
       "      <td>4000</td>\n",
       "      <td>4</td>\n",
       "      <td>4.4</td>\n",
       "      <td>270</td>\n",
       "      <td>0</td>\n",
       "      <td>0</td>\n",
       "      <td>0</td>\n",
       "      <td>0</td>\n",
       "      <td>0</td>\n",
       "      <td>...</td>\n",
       "      <td>1</td>\n",
       "      <td>0</td>\n",
       "      <td>1</td>\n",
       "      <td>0</td>\n",
       "      <td>0</td>\n",
       "      <td>0</td>\n",
       "      <td>0</td>\n",
       "      <td>0</td>\n",
       "      <td>0</td>\n",
       "      <td>1</td>\n",
       "    </tr>\n",
       "    <tr>\n",
       "      <th>3</th>\n",
       "      <td>162</td>\n",
       "      <td>1500</td>\n",
       "      <td>4</td>\n",
       "      <td>4.9</td>\n",
       "      <td>365</td>\n",
       "      <td>0</td>\n",
       "      <td>0</td>\n",
       "      <td>0</td>\n",
       "      <td>0</td>\n",
       "      <td>0</td>\n",
       "      <td>...</td>\n",
       "      <td>1</td>\n",
       "      <td>0</td>\n",
       "      <td>1</td>\n",
       "      <td>0</td>\n",
       "      <td>0</td>\n",
       "      <td>1</td>\n",
       "      <td>0</td>\n",
       "      <td>0</td>\n",
       "      <td>0</td>\n",
       "      <td>0</td>\n",
       "    </tr>\n",
       "    <tr>\n",
       "      <th>4</th>\n",
       "      <td>162</td>\n",
       "      <td>1500</td>\n",
       "      <td>4</td>\n",
       "      <td>4.8</td>\n",
       "      <td>229</td>\n",
       "      <td>0</td>\n",
       "      <td>0</td>\n",
       "      <td>0</td>\n",
       "      <td>0</td>\n",
       "      <td>0</td>\n",
       "      <td>...</td>\n",
       "      <td>1</td>\n",
       "      <td>0</td>\n",
       "      <td>1</td>\n",
       "      <td>0</td>\n",
       "      <td>0</td>\n",
       "      <td>1</td>\n",
       "      <td>0</td>\n",
       "      <td>0</td>\n",
       "      <td>0</td>\n",
       "      <td>0</td>\n",
       "    </tr>\n",
       "  </tbody>\n",
       "</table>\n",
       "<p>5 rows × 10625 columns</p>\n",
       "</div>"
      ],
      "text/plain": [
       "   Country Code  Average Cost for two  Price range  Aggregate rating  Votes  \\\n",
       "0           162                  1100            3               4.8    314   \n",
       "1           162                  1200            3               4.5    591   \n",
       "2           162                  4000            4               4.4    270   \n",
       "3           162                  1500            4               4.9    365   \n",
       "4           162                  1500            4               4.8    229   \n",
       "\n",
       "   Restaurant Name_#45  Restaurant Name_#Dilliwaala6  \\\n",
       "0                    0                             0   \n",
       "1                    0                             0   \n",
       "2                    0                             0   \n",
       "3                    0                             0   \n",
       "4                    0                             0   \n",
       "\n",
       "   Restaurant Name_#InstaFreeze  Restaurant Name_#OFF Campus  \\\n",
       "0                             0                            0   \n",
       "1                             0                            0   \n",
       "2                             0                            0   \n",
       "3                             0                            0   \n",
       "4                             0                            0   \n",
       "\n",
       "   Restaurant Name_#Urban Caf��  ...  Has Online delivery_No  \\\n",
       "0                             0  ...                       1   \n",
       "1                             0  ...                       1   \n",
       "2                             0  ...                       1   \n",
       "3                             0  ...                       1   \n",
       "4                             0  ...                       1   \n",
       "\n",
       "   Has Online delivery_Yes  Is delivering now_No  Is delivering now_Yes  \\\n",
       "0                        0                     1                      0   \n",
       "1                        0                     1                      0   \n",
       "2                        0                     1                      0   \n",
       "3                        0                     1                      0   \n",
       "4                        0                     1                      0   \n",
       "\n",
       "   Rating text_Average  Rating text_Excellent  Rating text_Good  \\\n",
       "0                    0                      1                 0   \n",
       "1                    0                      1                 0   \n",
       "2                    0                      0                 0   \n",
       "3                    0                      1                 0   \n",
       "4                    0                      1                 0   \n",
       "\n",
       "   Rating text_Not rated  Rating text_Poor  Rating text_Very Good  \n",
       "0                      0                 0                      0  \n",
       "1                      0                 0                      0  \n",
       "2                      0                 0                      1  \n",
       "3                      0                 0                      0  \n",
       "4                      0                 0                      0  \n",
       "\n",
       "[5 rows x 10625 columns]"
      ]
     },
     "execution_count": 29,
     "metadata": {},
     "output_type": "execute_result"
    }
   ],
   "source": [
    "# For labelling the categorical columns,One Hot encoding is permormed \n",
    "data_frame= pd.get_dummies(data_frame, columns = ['Restaurant Name', 'City', 'Locality',\n",
    "       'Cuisines', 'Has Table booking', 'Has Online delivery',\n",
    "       'Is delivering now','Rating text'])\n",
    "data_frame.head(5)"
   ]
  },
  {
   "cell_type": "markdown",
   "id": "694f6b94-b143-4670-ae88-b91138c93710",
   "metadata": {},
   "source": [
    "#### Splitting the combined dataset for training and testing"
   ]
  },
  {
   "cell_type": "code",
   "execution_count": 30,
   "id": "0293c8da-680b-4786-9fb4-6b4950c4fccb",
   "metadata": {
    "tags": []
   },
   "outputs": [],
   "source": [
    "from sklearn.model_selection import train_test_split"
   ]
  },
  {
   "cell_type": "code",
   "execution_count": 31,
   "id": "d8375ad7-bd9d-4986-8f5f-a5d23f933d71",
   "metadata": {
    "tags": []
   },
   "outputs": [],
   "source": [
    "#First step in building the model is to identify the Feature(Input) variables and Target (Output) variable\n",
    "features = data_frame.drop(['Aggregate rating'], axis=1)\n",
    "target = data_frame['Aggregate rating']"
   ]
  },
  {
   "cell_type": "code",
   "execution_count": 32,
   "id": "85f36e0b-4cb8-4181-84fe-6ec338c1cb80",
   "metadata": {
    "tags": []
   },
   "outputs": [
    {
     "name": "stdout",
     "output_type": "stream",
     "text": [
      "Train set of features:  (7633, 10624)\n",
      "Test set of features:  (1909, 10624)\n",
      "Target for train:  (7633,)\n",
      "Target for test:  (1909,)\n"
     ]
    }
   ],
   "source": [
    "# Splitting data for training the model and testing the model\n",
    "# train size taken as 0.8\n",
    "X_train, X_test, y_train, y_test = train_test_split(features, target, train_size = .8)\n",
    "# Dimensions of Train and Test Data sets\n",
    "print('Train set of features: ', X_train.shape)\n",
    "print('Test set of features: ', X_test.shape)\n",
    "print('Target for train: ', y_train.shape)\n",
    "print('Target for test: ', y_test.shape)"
   ]
  },
  {
   "cell_type": "markdown",
   "id": "96006158-a83c-4042-bcfa-119f4c47dd59",
   "metadata": {},
   "source": [
    "### Building the Models"
   ]
  },
  {
   "cell_type": "markdown",
   "id": "d2ede818-e0dd-4926-acf7-5812fb851e60",
   "metadata": {},
   "source": [
    "###  1. Linear Regression Model"
   ]
  },
  {
   "cell_type": "code",
   "execution_count": 33,
   "id": "c990c4e3-4c15-429e-a0ca-2fd0326a2fc0",
   "metadata": {
    "tags": []
   },
   "outputs": [],
   "source": [
    "# Learn the Linear Regression Model on train data\n",
    "from sklearn.linear_model import LinearRegression\n",
    "my_model_LR=LinearRegression()"
   ]
  },
  {
   "cell_type": "code",
   "execution_count": 34,
   "id": "578f8d07-1b08-4457-b6d5-6aedafe93e1d",
   "metadata": {
    "tags": []
   },
   "outputs": [
    {
     "data": {
      "text/html": [
       "<style>#sk-container-id-1 {color: black;background-color: white;}#sk-container-id-1 pre{padding: 0;}#sk-container-id-1 div.sk-toggleable {background-color: white;}#sk-container-id-1 label.sk-toggleable__label {cursor: pointer;display: block;width: 100%;margin-bottom: 0;padding: 0.3em;box-sizing: border-box;text-align: center;}#sk-container-id-1 label.sk-toggleable__label-arrow:before {content: \"▸\";float: left;margin-right: 0.25em;color: #696969;}#sk-container-id-1 label.sk-toggleable__label-arrow:hover:before {color: black;}#sk-container-id-1 div.sk-estimator:hover label.sk-toggleable__label-arrow:before {color: black;}#sk-container-id-1 div.sk-toggleable__content {max-height: 0;max-width: 0;overflow: hidden;text-align: left;background-color: #f0f8ff;}#sk-container-id-1 div.sk-toggleable__content pre {margin: 0.2em;color: black;border-radius: 0.25em;background-color: #f0f8ff;}#sk-container-id-1 input.sk-toggleable__control:checked~div.sk-toggleable__content {max-height: 200px;max-width: 100%;overflow: auto;}#sk-container-id-1 input.sk-toggleable__control:checked~label.sk-toggleable__label-arrow:before {content: \"▾\";}#sk-container-id-1 div.sk-estimator input.sk-toggleable__control:checked~label.sk-toggleable__label {background-color: #d4ebff;}#sk-container-id-1 div.sk-label input.sk-toggleable__control:checked~label.sk-toggleable__label {background-color: #d4ebff;}#sk-container-id-1 input.sk-hidden--visually {border: 0;clip: rect(1px 1px 1px 1px);clip: rect(1px, 1px, 1px, 1px);height: 1px;margin: -1px;overflow: hidden;padding: 0;position: absolute;width: 1px;}#sk-container-id-1 div.sk-estimator {font-family: monospace;background-color: #f0f8ff;border: 1px dotted black;border-radius: 0.25em;box-sizing: border-box;margin-bottom: 0.5em;}#sk-container-id-1 div.sk-estimator:hover {background-color: #d4ebff;}#sk-container-id-1 div.sk-parallel-item::after {content: \"\";width: 100%;border-bottom: 1px solid gray;flex-grow: 1;}#sk-container-id-1 div.sk-label:hover label.sk-toggleable__label {background-color: #d4ebff;}#sk-container-id-1 div.sk-serial::before {content: \"\";position: absolute;border-left: 1px solid gray;box-sizing: border-box;top: 0;bottom: 0;left: 50%;z-index: 0;}#sk-container-id-1 div.sk-serial {display: flex;flex-direction: column;align-items: center;background-color: white;padding-right: 0.2em;padding-left: 0.2em;position: relative;}#sk-container-id-1 div.sk-item {position: relative;z-index: 1;}#sk-container-id-1 div.sk-parallel {display: flex;align-items: stretch;justify-content: center;background-color: white;position: relative;}#sk-container-id-1 div.sk-item::before, #sk-container-id-1 div.sk-parallel-item::before {content: \"\";position: absolute;border-left: 1px solid gray;box-sizing: border-box;top: 0;bottom: 0;left: 50%;z-index: -1;}#sk-container-id-1 div.sk-parallel-item {display: flex;flex-direction: column;z-index: 1;position: relative;background-color: white;}#sk-container-id-1 div.sk-parallel-item:first-child::after {align-self: flex-end;width: 50%;}#sk-container-id-1 div.sk-parallel-item:last-child::after {align-self: flex-start;width: 50%;}#sk-container-id-1 div.sk-parallel-item:only-child::after {width: 0;}#sk-container-id-1 div.sk-dashed-wrapped {border: 1px dashed gray;margin: 0 0.4em 0.5em 0.4em;box-sizing: border-box;padding-bottom: 0.4em;background-color: white;}#sk-container-id-1 div.sk-label label {font-family: monospace;font-weight: bold;display: inline-block;line-height: 1.2em;}#sk-container-id-1 div.sk-label-container {text-align: center;}#sk-container-id-1 div.sk-container {/* jupyter's `normalize.less` sets `[hidden] { display: none; }` but bootstrap.min.css set `[hidden] { display: none !important; }` so we also need the `!important` here to be able to override the default hidden behavior on the sphinx rendered scikit-learn.org. See: https://github.com/scikit-learn/scikit-learn/issues/21755 */display: inline-block !important;position: relative;}#sk-container-id-1 div.sk-text-repr-fallback {display: none;}</style><div id=\"sk-container-id-1\" class=\"sk-top-container\"><div class=\"sk-text-repr-fallback\"><pre>LinearRegression()</pre><b>In a Jupyter environment, please rerun this cell to show the HTML representation or trust the notebook. <br />On GitHub, the HTML representation is unable to render, please try loading this page with nbviewer.org.</b></div><div class=\"sk-container\" hidden><div class=\"sk-item\"><div class=\"sk-estimator sk-toggleable\"><input class=\"sk-toggleable__control sk-hidden--visually\" id=\"sk-estimator-id-1\" type=\"checkbox\" checked><label for=\"sk-estimator-id-1\" class=\"sk-toggleable__label sk-toggleable__label-arrow\">LinearRegression</label><div class=\"sk-toggleable__content\"><pre>LinearRegression()</pre></div></div></div></div></div>"
      ],
      "text/plain": [
       "LinearRegression()"
      ]
     },
     "execution_count": 34,
     "metadata": {},
     "output_type": "execute_result"
    }
   ],
   "source": [
    "# Fitting the model in train data set ie the Linear Regression Model should learn from the on Train Data\n",
    "my_model_LR.fit(X_train, y_train)"
   ]
  },
  {
   "cell_type": "code",
   "execution_count": 35,
   "id": "87469957-c906-41f3-bcee-f42001ae25d3",
   "metadata": {
    "tags": []
   },
   "outputs": [
    {
     "data": {
      "text/plain": [
       "array([ 3.62995821, -0.03209987,  2.94383401, ...,  4.15235805,\n",
       "        2.45931594, -0.08755458])"
      ]
     },
     "execution_count": 35,
     "metadata": {},
     "output_type": "execute_result"
    }
   ],
   "source": [
    "# Predicting 'Aggregate Ratings' from Feature Test values\n",
    "y_pred_LR = my_model_LR.predict(X_test)\n",
    "y_pred_LR "
   ]
  },
  {
   "cell_type": "markdown",
   "id": "3c1d36ff-fd2a-4384-ad2e-2bffda11f824",
   "metadata": {},
   "source": [
    "#### Test the model"
   ]
  },
  {
   "cell_type": "code",
   "execution_count": 36,
   "id": "65aac655-c54a-4066-9f96-9de8c2908742",
   "metadata": {
    "tags": []
   },
   "outputs": [],
   "source": [
    "from sklearn.metrics import mean_squared_error"
   ]
  },
  {
   "cell_type": "code",
   "execution_count": 37,
   "id": "c8dbebc1-3923-4f73-9686-e75fdc0aab74",
   "metadata": {
    "tags": []
   },
   "outputs": [
    {
     "data": {
      "text/plain": [
       "0.0749549852929335"
      ]
     },
     "execution_count": 37,
     "metadata": {},
     "output_type": "execute_result"
    }
   ],
   "source": [
    "# Compare the predicted values with the true values\n",
    "mean_squared_error(y_pred_LR, y_test)"
   ]
  },
  {
   "cell_type": "markdown",
   "id": "f44c426d-b5e1-42a4-bf4b-8c6bf5e54d2e",
   "metadata": {},
   "source": [
    "##### Coefficient of Determination or R Squared Value (r2)"
   ]
  },
  {
   "cell_type": "code",
   "execution_count": 38,
   "id": "f1f3be39-178a-4f1b-8df6-b269b136f858",
   "metadata": {
    "tags": []
   },
   "outputs": [],
   "source": [
    "from sklearn.metrics import r2_score"
   ]
  },
  {
   "cell_type": "code",
   "execution_count": 39,
   "id": "04557f54-83f5-4594-a646-80ed9f16e368",
   "metadata": {
    "tags": []
   },
   "outputs": [
    {
     "data": {
      "text/plain": [
       "0.9667450856870572"
      ]
     },
     "execution_count": 39,
     "metadata": {},
     "output_type": "execute_result"
    }
   ],
   "source": [
    "# find Coefficient of Determination or R Squared Value (r2)\n",
    "r2_score(y_test,y_pred_LR)"
   ]
  },
  {
   "cell_type": "markdown",
   "id": "f951eb0d-71c8-4b2a-bd8b-ced16608992b",
   "metadata": {},
   "source": [
    "### 2. Decision Tree model"
   ]
  },
  {
   "cell_type": "code",
   "execution_count": 40,
   "id": "6e94f673-3f15-455f-91db-02ec5b573823",
   "metadata": {
    "tags": []
   },
   "outputs": [],
   "source": [
    "from sklearn.tree import DecisionTreeRegressor\n",
    "my_model_DT=DecisionTreeRegressor(max_depth=10,random_state = 0)"
   ]
  },
  {
   "cell_type": "code",
   "execution_count": 41,
   "id": "7fa220c8-3999-4b79-a4ed-6412a4453725",
   "metadata": {
    "tags": []
   },
   "outputs": [],
   "source": [
    "# Fitting the DT model in train data set \n",
    "my_model_DT=my_model_DT.fit(X_train, y_train)"
   ]
  },
  {
   "cell_type": "code",
   "execution_count": 42,
   "id": "7a490e3a-af28-4bf2-91dd-f77b6a3ca09f",
   "metadata": {
    "tags": []
   },
   "outputs": [
    {
     "data": {
      "text/plain": [
       "array([3.6918    , 0.        , 2.82857143, ..., 4.13297587, 3.06054104,\n",
       "       0.        ])"
      ]
     },
     "execution_count": 42,
     "metadata": {},
     "output_type": "execute_result"
    }
   ],
   "source": [
    "# Predicting 'Aggregate Ratings' from Feature Test values\n",
    "y_pred_DT = my_model_DT.predict(X_test)\n",
    "y_pred_DT"
   ]
  },
  {
   "cell_type": "markdown",
   "id": "bc628bf5-587d-4d1a-9f56-90b2bf313aac",
   "metadata": {},
   "source": [
    "#### Testing the Decision Tree Regression Model"
   ]
  },
  {
   "cell_type": "code",
   "execution_count": 43,
   "id": "49dfbea8-fb73-4697-9167-a35c9774ecea",
   "metadata": {
    "tags": []
   },
   "outputs": [
    {
     "data": {
      "text/plain": [
       "0.03259748217852152"
      ]
     },
     "execution_count": 43,
     "metadata": {},
     "output_type": "execute_result"
    }
   ],
   "source": [
    "# Compare the predicted values with the true values\n",
    "mean_squared_error(y_pred_DT, y_test)"
   ]
  },
  {
   "cell_type": "code",
   "execution_count": 44,
   "id": "241b5f0f-33ce-454e-aab3-87e7b1e3ce00",
   "metadata": {
    "tags": []
   },
   "outputs": [
    {
     "data": {
      "text/plain": [
       "0.9855376333885211"
      ]
     },
     "execution_count": 44,
     "metadata": {},
     "output_type": "execute_result"
    }
   ],
   "source": [
    "# find Coefficient of Determination or R Squared Value (r2)\n",
    "r2_score(y_test,y_pred_DT)"
   ]
  },
  {
   "cell_type": "markdown",
   "id": "9e90c203-8cb2-43ed-a641-4121213dd67c",
   "metadata": {},
   "source": [
    " * Decision Tree Regression has high Coefficient of Determination or R Squared Value (r2) compared to Linear  Regression Model\n",
    " * Decision Tree Regression also hasvery low Mean Squared Error"
   ]
  },
  {
   "cell_type": "markdown",
   "id": "61009178-1faf-46e9-8c7b-b19807aa9ce7",
   "metadata": {},
   "source": [
    "-------------------------------THE END----------------------------------"
   ]
  }
 ],
 "metadata": {
  "kernelspec": {
   "display_name": "Python 3 (ipykernel)",
   "language": "python",
   "name": "python3"
  },
  "language_info": {
   "codemirror_mode": {
    "name": "ipython",
    "version": 3
   },
   "file_extension": ".py",
   "mimetype": "text/x-python",
   "name": "python",
   "nbconvert_exporter": "python",
   "pygments_lexer": "ipython3",
   "version": "3.11.4"
  }
 },
 "nbformat": 4,
 "nbformat_minor": 5
}
